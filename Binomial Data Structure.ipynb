{
 "cells": [
  {
   "cell_type": "markdown",
   "id": "102d56db",
   "metadata": {},
   "source": [
    "# Introduction\n",
    "\n",
    "## Node class\n",
    "\n",
    "First we will start off with a simple node object, a node is a component of a graph and can have other nodes leading up to it, and nodes leading from it, but doesn't have to. Another optionality is to store data.\n",
    "\n",
    "Here we introduce a simple node class, which just does this simplest function with methods get/set methods for the data, and the previous and next nodes."
   ]
  },
  {
   "cell_type": "code",
   "execution_count": null,
   "id": "50b5db13",
   "metadata": {},
   "outputs": [],
   "source": [
    "import numpy as np\n",
    "import matplotlib.pyplot as plt\n",
    "from scipy.special import binom\n",
    "\n",
    "\n",
    "class Node:\n",
    "\n",
    "    def __init__(self, previous_nodes=None, next_nodes=None, data=None):\n",
    "        if previous_nodes is not None:\n",
    "            self.previous_nodes = previous_nodes\n",
    "        else:\n",
    "            self.previous_nodes = []\n",
    "        if next_nodes is not None:\n",
    "            self.next_nodes = next_nodes\n",
    "        else:\n",
    "            self.next_nodes = []\n",
    "        self.data = data\n",
    "\n",
    "    def get_data(self):\n",
    "        return self.data\n",
    "\n",
    "    def set_data(self, data):\n",
    "        self.data = data\n",
    "\n",
    "    def get_previous_nodes(self):\n",
    "        return self.previous_nodes\n",
    "\n",
    "    def set_previous_nodes(self, nodes):\n",
    "        self.previous_nodes.append(nodes)\n",
    "\n",
    "    def get_next_nodes(self):\n",
    "        return self.next_nodes\n",
    "\n",
    "    def set_next_nodes(self, nodes):\n",
    "        self.next_nodes.append(nodes)"
   ]
  },
  {
   "cell_type": "markdown",
   "id": "50fd2e8d",
   "metadata": {},
   "source": [
    "Node objects present the basic building block of a tree which we intend to build, the code is pretty self-explanatory. One thing to note is that, technically the the next node of the current node, could be the node itself, this is a recurrent node, but for the purposes of this project, this will node be taken into consideration.\n",
    "\n",
    "Next we present a binary tree, which is very similiar to the binomial tree which we will later on build, in the binomial tree pricing.\n",
    "\n",
    "\n",
    "## Binary Tree\n",
    "\n",
    "Binary tree, is usually recursively defined as a data structure where each parent node, has two child nodes, except for the last leaf nodes . Conventionally, nodes which do have subnodes in this data structure are called *interior nodes*, while the nodes in the last layer are called the *leaf nodes*.\n",
    "\n",
    "Here we present the code for the binary tree"
   ]
  },
  {
   "cell_type": "code",
   "execution_count": null,
   "id": "e75306fe",
   "metadata": {},
   "outputs": [],
   "source": [
    "class BinaryTree:\n",
    "    def __init__(self, depth=10):\n",
    "        self.tree = []\n",
    "        self.depth = depth\n",
    "\n",
    "    def create_tree(self):\n",
    "        for i in range(1, self.depth + 1):\n",
    "            self.tree.append([Node(data=i)] * (1 << i))\n",
    "        len_all_nodes = ([len(x) for x in self.tree])\n",
    "        for i in range(1, len(len_all_nodes)):\n",
    "            counter = 0\n",
    "            for j in range(len_all_nodes[i]):\n",
    "                if j % 2 == 0 and j > 0:\n",
    "                    counter = counter + 1\n",
    "                if i > 0:\n",
    "                    self.tree[i - 1][counter].set_next_nodes(self.tree[i][j])"
   ]
  },
  {
   "cell_type": "markdown",
   "id": "5092e872",
   "metadata": {},
   "source": [
    "Note, here bitshifting once is equivalent to stating $2^i$. While usually one would go about creating a tree differently, we are interested in easier traversal of the full tree structure, thus we opted not to set each of the interior nodes recursively by simply appending two nodes, then doing the same for the next node in the next layer. \n",
    "\n",
    "This would make things like computing the mean along a certain axis fairly more complex. Binary trees in their original form would be more suitable for things where there is a decision boundary that acts a sentinel for traversing the path.\n",
    "\n",
    "You can access the data at each layer, by simply calling the nodes *get_data()* method, same goes for setting the data. By default the depth of the tree is set to 10, one could go for larger trees, in that case, the whole structure could be converted to numpy arrays in order to make the code work quicker, but in this project, we will not use a larger depth than 10."
   ]
  },
  {
   "cell_type": "markdown",
   "id": "839e6fbe",
   "metadata": {},
   "source": [
    "## Binomial Tree\n",
    "\n",
    "Binomial tree is a fairly similiar data structure to the binary tree, the key difference lies in it's the definitinion. Above we stated the definition for the binary tree, we should alse introduce the concept of left and right nodes, which are each of the subnodes of the inner nodes up to the leafs, furthermore, with distinct branches.\n",
    "\n",
    "This simply means that, except for the leafs, each node has a left and right node, that are not connected. For the binomial tree, the recursive definition states that only the top-most and the bottom-most node have two distinct subnodes, while for all the other inner nodes, one of the nodes is distinct, while the other shares a connection with a previously defined node.\n",
    "\n",
    "Below, we present the code to define a binary tree, same as before we did not create the tree recursively in order to make the data manipulation easier. Also each **Node** object is instantiated with dummy data, so the objects are not referencing the same object in memory. "
   ]
  },
  {
   "cell_type": "code",
   "execution_count": null,
   "id": "25530009",
   "metadata": {},
   "outputs": [],
   "source": [
    "class BinomialTree(BinaryTree):\n",
    "    print_coo = []\n",
    "\n",
    "    def __init__(self, depth=10):\n",
    "        super().__init__(depth)\n",
    "\n",
    "    def create_tree(self):\n",
    "        self.tree.append([Node(data=0)])\n",
    "        for s in range(1, self.depth):\n",
    "            self.tree.append([])\n",
    "            for j in range(s + 1):\n",
    "                self.tree[s].append(Node(data=s))\n",
    "        len_all_nodes = ([len(x) for x in self.tree])\n",
    "        for k in range(len(len_all_nodes) - 1):\n",
    "            for m in range(len_all_nodes[k]):\n",
    "                self.tree[k][m].set_next_nodes(self.tree[k + 1][m])\n",
    "                self.tree[k][m].set_next_nodes(self.tree[k + 1][m + 1])\n",
    "\n",
    "    def set_tree_node(self, data, i, j):\n",
    "        self.tree[i][j].set_data(data)\n",
    "\n",
    "    def get_tree_node(self, i, j):\n",
    "        return self.tree[i][j]"
   ]
  },
  {
   "cell_type": "markdown",
   "id": "f1e6f436",
   "metadata": {},
   "source": []
  }
 ],
 "metadata": {
  "kernelspec": {
   "display_name": "Python 3 (ipykernel)",
   "language": "python",
   "name": "python3"
  },
  "language_info": {
   "codemirror_mode": {
    "name": "ipython",
    "version": 3
   },
   "file_extension": ".py",
   "mimetype": "text/x-python",
   "name": "python",
   "nbconvert_exporter": "python",
   "pygments_lexer": "ipython3",
   "version": "3.11.2"
  }
 },
 "nbformat": 4,
 "nbformat_minor": 5
}
